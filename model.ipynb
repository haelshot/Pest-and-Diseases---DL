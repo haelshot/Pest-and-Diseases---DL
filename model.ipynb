{
 "cells": [
  {
   "cell_type": "code",
   "execution_count": 1,
   "metadata": {},
   "outputs": [],
   "source": [
    "import pandas as pd"
   ]
  },
  {
   "cell_type": "code",
   "execution_count": 2,
   "metadata": {},
   "outputs": [
    {
     "data": {
      "text/html": [
       "<div>\n",
       "<style scoped>\n",
       "    .dataframe tbody tr th:only-of-type {\n",
       "        vertical-align: middle;\n",
       "    }\n",
       "\n",
       "    .dataframe tbody tr th {\n",
       "        vertical-align: top;\n",
       "    }\n",
       "\n",
       "    .dataframe thead th {\n",
       "        text-align: right;\n",
       "    }\n",
       "</style>\n",
       "<table border=\"1\" class=\"dataframe\">\n",
       "  <thead>\n",
       "    <tr style=\"text-align: right;\">\n",
       "      <th></th>\n",
       "      <th>Observation Year</th>\n",
       "      <th>Standard Week</th>\n",
       "      <th>Pest Value</th>\n",
       "      <th>Collection Type</th>\n",
       "      <th>MaxT</th>\n",
       "      <th>MinT</th>\n",
       "      <th>RH1(%)</th>\n",
       "      <th>RH2(%)</th>\n",
       "      <th>RF(mm)</th>\n",
       "      <th>WS(kmph)</th>\n",
       "      <th>SSH(hrs)</th>\n",
       "      <th>EVP(mm)</th>\n",
       "      <th>PEST NAME</th>\n",
       "      <th>Location</th>\n",
       "    </tr>\n",
       "  </thead>\n",
       "  <tbody>\n",
       "    <tr>\n",
       "      <th>0</th>\n",
       "      <td>2003</td>\n",
       "      <td>1</td>\n",
       "      <td>0.0</td>\n",
       "      <td>Number/hill</td>\n",
       "      <td>27.9</td>\n",
       "      <td>14.8</td>\n",
       "      <td>94.7</td>\n",
       "      <td>51.3</td>\n",
       "      <td>0.0</td>\n",
       "      <td>3.1</td>\n",
       "      <td>8.7</td>\n",
       "      <td>2.7</td>\n",
       "      <td>Brownplanthopper</td>\n",
       "      <td>Cuttack</td>\n",
       "    </tr>\n",
       "    <tr>\n",
       "      <th>1</th>\n",
       "      <td>2003</td>\n",
       "      <td>2</td>\n",
       "      <td>0.0</td>\n",
       "      <td>Number/hill</td>\n",
       "      <td>27.2</td>\n",
       "      <td>15.0</td>\n",
       "      <td>93.9</td>\n",
       "      <td>53.1</td>\n",
       "      <td>0.0</td>\n",
       "      <td>2.1</td>\n",
       "      <td>8.7</td>\n",
       "      <td>2.4</td>\n",
       "      <td>Brownplanthopper</td>\n",
       "      <td>Cuttack</td>\n",
       "    </tr>\n",
       "    <tr>\n",
       "      <th>2</th>\n",
       "      <td>2003</td>\n",
       "      <td>3</td>\n",
       "      <td>0.0</td>\n",
       "      <td>Number/hill</td>\n",
       "      <td>28.7</td>\n",
       "      <td>18.3</td>\n",
       "      <td>94.1</td>\n",
       "      <td>56.7</td>\n",
       "      <td>0.6</td>\n",
       "      <td>4.8</td>\n",
       "      <td>6.7</td>\n",
       "      <td>2.8</td>\n",
       "      <td>Brownplanthopper</td>\n",
       "      <td>Cuttack</td>\n",
       "    </tr>\n",
       "    <tr>\n",
       "      <th>3</th>\n",
       "      <td>2003</td>\n",
       "      <td>4</td>\n",
       "      <td>0.0</td>\n",
       "      <td>Number/hill</td>\n",
       "      <td>25.3</td>\n",
       "      <td>16.4</td>\n",
       "      <td>90.9</td>\n",
       "      <td>57.4</td>\n",
       "      <td>0.3</td>\n",
       "      <td>6.5</td>\n",
       "      <td>5.3</td>\n",
       "      <td>3.0</td>\n",
       "      <td>Brownplanthopper</td>\n",
       "      <td>Cuttack</td>\n",
       "    </tr>\n",
       "    <tr>\n",
       "      <th>4</th>\n",
       "      <td>2003</td>\n",
       "      <td>5</td>\n",
       "      <td>0.0</td>\n",
       "      <td>Number/hill</td>\n",
       "      <td>28.8</td>\n",
       "      <td>18.7</td>\n",
       "      <td>95.7</td>\n",
       "      <td>55.0</td>\n",
       "      <td>0.0</td>\n",
       "      <td>5.2</td>\n",
       "      <td>6.3</td>\n",
       "      <td>2.8</td>\n",
       "      <td>Brownplanthopper</td>\n",
       "      <td>Cuttack</td>\n",
       "    </tr>\n",
       "  </tbody>\n",
       "</table>\n",
       "</div>"
      ],
      "text/plain": [
       "   Observation Year  Standard Week  Pest Value Collection Type  MaxT  MinT  \\\n",
       "0              2003              1         0.0     Number/hill  27.9  14.8   \n",
       "1              2003              2         0.0     Number/hill  27.2  15.0   \n",
       "2              2003              3         0.0     Number/hill  28.7  18.3   \n",
       "3              2003              4         0.0     Number/hill  25.3  16.4   \n",
       "4              2003              5         0.0     Number/hill  28.8  18.7   \n",
       "\n",
       "   RH1(%)  RH2(%)  RF(mm)  WS(kmph)  SSH(hrs)  EVP(mm)         PEST NAME  \\\n",
       "0    94.7    51.3     0.0       3.1       8.7      2.7  Brownplanthopper   \n",
       "1    93.9    53.1     0.0       2.1       8.7      2.4  Brownplanthopper   \n",
       "2    94.1    56.7     0.6       4.8       6.7      2.8  Brownplanthopper   \n",
       "3    90.9    57.4     0.3       6.5       5.3      3.0  Brownplanthopper   \n",
       "4    95.7    55.0     0.0       5.2       6.3      2.8  Brownplanthopper   \n",
       "\n",
       "  Location  \n",
       "0  Cuttack  \n",
       "1  Cuttack  \n",
       "2  Cuttack  \n",
       "3  Cuttack  \n",
       "4  Cuttack  "
      ]
     },
     "execution_count": 2,
     "metadata": {},
     "output_type": "execute_result"
    }
   ],
   "source": [
    "rice_timeseries_csv = pd.read_csv('RICE.csv')\n",
    "rice_timeseries_csv.head()"
   ]
  },
  {
   "cell_type": "code",
   "execution_count": 5,
   "metadata": {},
   "outputs": [
    {
     "data": {
      "text/plain": [
       "array([ 1,  2,  3,  4,  5,  6,  7,  8,  9, 10, 11, 12, 13, 14, 15, 16, 17,\n",
       "       18, 19, 20, 21, 22, 23, 24, 25, 26, 27, 28, 29, 30, 31, 32, 33, 34,\n",
       "       35, 36, 37, 38, 39, 40, 41, 42, 43, 44, 45, 46, 47, 48, 49, 50, 51,\n",
       "       52])"
      ]
     },
     "execution_count": 5,
     "metadata": {},
     "output_type": "execute_result"
    }
   ],
   "source": [
    "rice_timeseries_csv['Standard Week'].unique()"
   ]
  },
  {
   "cell_type": "code",
   "execution_count": null,
   "metadata": {},
   "outputs": [],
   "source": [
    "Blast = LeafBlast and NeckBlast"
   ]
  }
 ],
 "metadata": {
  "kernelspec": {
   "display_name": "Python 3",
   "language": "python",
   "name": "python3"
  },
  "language_info": {
   "codemirror_mode": {
    "name": "ipython",
    "version": 3
   },
   "file_extension": ".py",
   "mimetype": "text/x-python",
   "name": "python",
   "nbconvert_exporter": "python",
   "pygments_lexer": "ipython3",
   "version": "3.10.12"
  }
 },
 "nbformat": 4,
 "nbformat_minor": 2
}
